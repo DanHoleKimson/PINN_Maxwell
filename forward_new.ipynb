{
 "cells": [
  {
   "cell_type": "code",
   "execution_count": 121,
   "metadata": {},
   "outputs": [],
   "source": [
    "from tqdm import tqdm\n",
    "import pickle as pkl\n",
    "import numpy as np\n",
    "import pandas as pd\n",
    "import json\n",
    "import os\n",
    "import scipy\n",
    "import random\n",
    "\n",
    "import torch\n",
    "from torch.autograd import Variable\n",
    "import torch.nn as nn\n",
    "import torch.nn.functional as F\n",
    "import torch.optim as optim\n",
    "\n",
    "import matplotlib.pyplot as plt\n",
    "import copy"
   ]
  },
  {
   "cell_type": "code",
   "execution_count": 122,
   "metadata": {},
   "outputs": [
    {
     "data": {
      "text/plain": [
       "device(type='cuda', index=0)"
      ]
     },
     "execution_count": 122,
     "metadata": {},
     "output_type": "execute_result"
    }
   ],
   "source": [
    "device = torch.device('cuda:0' if torch.cuda.is_available() else 'cpu')\n",
    "device"
   ]
  },
  {
   "cell_type": "code",
   "execution_count": 123,
   "metadata": {},
   "outputs": [],
   "source": [
    "sigma_int = pd.read_csv('Data/sigma_i.csv', header=None).values.T\n",
    "sigma_bdry = pd.read_csv('Data/sigma_b.csv', header=None).values.T\n",
    "sigma_int_grad = pd.read_csv('Data/sigma_i_grad.csv', header=None).values\n",
    "\n",
    "u_int = pd.read_csv('Data/potential_i.csv', header=None).values.T\n",
    "u_bdry = pd.read_csv('Data/potential_b.csv', header=None).values.T\n",
    "\n",
    "x_int = pd.read_csv('Data/pts_i.csv', header=None).values.T\n",
    "x_bdry = pd.read_csv('Data/pts_b.csv', header=None).values.T"
   ]
  },
  {
   "cell_type": "code",
   "execution_count": 124,
   "metadata": {},
   "outputs": [
    {
     "data": {
      "text/plain": [
       "((3000, 1), (3000, 1), (3000, 2), (3000, 2), (300, 1), (300, 1), (300, 2))"
      ]
     },
     "execution_count": 124,
     "metadata": {},
     "output_type": "execute_result"
    }
   ],
   "source": [
    "u_int.shape, sigma_int.shape, sigma_int_grad.shape, x_int.shape,\\\n",
    "u_bdry.shape, sigma_bdry.shape, x_bdry.shape"
   ]
  },
  {
   "cell_type": "code",
   "execution_count": 125,
   "metadata": {},
   "outputs": [],
   "source": [
    "s_int = torch.FloatTensor(sigma_int).to(device)\n",
    "s_int_grad = torch.FloatTensor(sigma_int_grad).to(device)\n",
    "s_bdry = torch.FloatTensor(sigma_bdry).to(device)\n",
    "\n",
    "u_int = torch.FloatTensor(u_int).to(device)\n",
    "u_bdry = torch.FloatTensor(u_bdry).to(device)\n",
    "\n",
    "x_int = torch.FloatTensor(x_int).to(device).requires_grad_(True)\n",
    "x_bdry = torch.FloatTensor(x_bdry).to(device)"
   ]
  },
  {
   "cell_type": "code",
   "execution_count": 126,
   "metadata": {},
   "outputs": [],
   "source": [
    "output_s_x, output_s_y = s_int_grad[:,0].view(-1,1), s_int_grad[:,1].view(-1,1)"
   ]
  },
  {
   "cell_type": "code",
   "execution_count": 127,
   "metadata": {},
   "outputs": [
    {
     "data": {
      "text/plain": [
       "tensor([[0.],\n",
       "        [0.],\n",
       "        [0.],\n",
       "        ...,\n",
       "        [0.],\n",
       "        [0.],\n",
       "        [0.]], device='cuda:0')"
      ]
     },
     "execution_count": 127,
     "metadata": {},
     "output_type": "execute_result"
    }
   ],
   "source": [
    "output_s_x"
   ]
  },
  {
   "cell_type": "code",
   "execution_count": 128,
   "metadata": {},
   "outputs": [
    {
     "data": {
      "text/plain": [
       "tensor([[0.],\n",
       "        [0.],\n",
       "        [0.],\n",
       "        ...,\n",
       "        [0.],\n",
       "        [0.],\n",
       "        [0.]], device='cuda:0')"
      ]
     },
     "execution_count": 128,
     "metadata": {},
     "output_type": "execute_result"
    }
   ],
   "source": [
    "output_s_y"
   ]
  },
  {
   "cell_type": "code",
   "execution_count": 129,
   "metadata": {},
   "outputs": [],
   "source": [
    "Nx = 100\n",
    "Ny = 100\n",
    "xmax = 1\n",
    "ymax = 1\n",
    "topk = 40\n",
    "\n",
    "x = torch.linspace(-xmax, xmax, Nx)\n",
    "y = torch.linspace(-ymax, ymax, Ny)\n",
    "\n",
    "xy = torch.meshgrid(x,y)\n",
    "xy_plot = torch.cat([xy[0].reshape(-1,1), xy[1].reshape(-1,1)],dim=1).to(device)"
   ]
  },
  {
   "cell_type": "code",
   "execution_count": 130,
   "metadata": {},
   "outputs": [],
   "source": [
    "class model(nn.Module):\n",
    "    def __init__(self, hidden_dims):\n",
    "        super(model, self).__init__()\n",
    "\n",
    "        self.layers = []\n",
    "        for i in range(len(hidden_dims)-1):\n",
    "            self.layers.append(nn.Linear(hidden_dims[i], hidden_dims[i+1]))\n",
    "        self.layers = nn.ModuleList(self.layers)\n",
    "\n",
    "        for layer in self.layers:\n",
    "            nn.init.xavier_uniform_(layer.weight)\n",
    "\n",
    "        self.act = nn.Tanh()\n",
    "\n",
    "    def forward(self, x):\n",
    "        x = self.act(self.layers[0](x))\n",
    "        for layer in self.layers[1:-1]:\n",
    "            x = self.act(layer(x))\n",
    "        x = self.layers[-1](x)\n",
    "        return x\n",
    "    \n",
    "    def get_weights(self):\n",
    "        weights = torch.cat([layer.weight.view(-1) for layer in self.layers])\n",
    "        return weights"
   ]
  },
  {
   "cell_type": "code",
   "execution_count": 131,
   "metadata": {},
   "outputs": [],
   "source": [
    "def calculate_derivative(y, x):\n",
    "    return torch.autograd.grad(y, x, create_graph=True, grad_outputs=torch.ones(y.size()).to(device))[0]\n",
    "\n",
    "def train(u_model, optimizer, loss_f):\n",
    "\n",
    "    u_model.train()\n",
    "    #s_model.train()\n",
    "    optimizer.zero_grad()\n",
    "\n",
    "    output_u = u_model(x_int)\n",
    "    output_u_bdry = u_model(x_bdry)\n",
    "    #output_s = s_model(x_int)\n",
    "    #output_s_bdry = s_model(x_bdry)\n",
    "\n",
    "    output_grad_u = calculate_derivative(output_u, x_int)\n",
    "    #output_grad_s = calculate_derivative(output_s, x_int)\n",
    "\n",
    "    #output_s_x, output_s_y = output_grad_s[:,0].view(-1,1), output_grad_s[:,1].view(-1,1)\n",
    "    #output_s_x, output_s_y = s_int_grad[:,0].view(-1,1), s_int_grad[:,1].view(-1,1)\n",
    "    output_u_x, output_u_y = output_grad_u[:,0].view(-1,1), output_grad_u[:,1].view(-1,1)\n",
    "    output_u_xx, output_u_yy = calculate_derivative(output_u_x, x_int)[:,0].view(-1,1), calculate_derivative(output_u_y, x_int)[:,1].view(-1,1)\n",
    "\n",
    "    ge = output_s_x*output_u_x + output_s_y*output_u_y + s_int*(output_u_xx + output_u_yy)\n",
    "    loss_l2 = loss_f(ge, torch.zeros_like(output_u))\n",
    "    loss_inf = torch.topk(torch.abs(ge).view(-1), topk).values.mean()\n",
    "    loss_bdry = loss_f(output_u_bdry, u_bdry)# + loss_f(output_s, s_int) + loss_f(output_s_bdry, s_bdry)\n",
    "    regularizer = torch.norm(u_model.get_weights())\n",
    "\n",
    "    lamb = 0.01\n",
    "    mu = 0.01\n",
    "    eta = 1e-8\n",
    "    loss = lamb * loss_l2 + mu * loss_inf + loss_bdry + eta * regularizer\n",
    "    loss.backward()\n",
    "    optimizer.step()\n",
    "\n",
    "    return loss_l2.item(), loss_inf.item(), loss_bdry.item()"
   ]
  },
  {
   "cell_type": "code",
   "execution_count": 132,
   "metadata": {},
   "outputs": [],
   "source": [
    "def plot(u_model) :\n",
    "    u_model.eval()\n",
    "\n",
    "    figure = plt.figure(figsize=(5,5))\n",
    "    ax = figure.add_subplot(1,1,1)\n",
    "    output_u = (u_model(xy_plot) * (xy_plot.norm(dim=1)<=1).float().view(-1,1)).cpu().detach()\n",
    "    plt.pcolor(output_u.view(Nx, Ny).T)\n",
    "    ax.set_title('u prediction')\n",
    "    plt.colorbar()"
   ]
  },
  {
   "cell_type": "code",
   "execution_count": 133,
   "metadata": {},
   "outputs": [
    {
     "name": "stderr",
     "output_type": "stream",
     "text": [
      "  0%|          | 0/20000 [00:00<?, ?it/s]"
     ]
    },
    {
     "name": "stderr",
     "output_type": "stream",
     "text": [
      "  0%|          | 1/20000 [00:00<1:14:12,  4.49it/s]"
     ]
    },
    {
     "name": "stdout",
     "output_type": "stream",
     "text": [
      "0/20000 | loss_l2: 31791.156250 |  loss_inf: 1155.643433 | loss_bdry: 0.048284 | test_err: 0.042764\n"
     ]
    },
    {
     "name": "stderr",
     "output_type": "stream",
     "text": [
      "  1%|          | 110/20000 [00:02<05:13, 63.46it/s]"
     ]
    },
    {
     "name": "stdout",
     "output_type": "stream",
     "text": [
      "100/20000 | loss_l2: 67.136597 |  loss_inf: 55.576965 | loss_bdry: 0.094108 | test_err: 0.064795\n"
     ]
    },
    {
     "name": "stderr",
     "output_type": "stream",
     "text": [
      "  1%|          | 211/20000 [00:03<05:04, 64.96it/s]"
     ]
    },
    {
     "name": "stdout",
     "output_type": "stream",
     "text": [
      "200/20000 | loss_l2: 33.932911 |  loss_inf: 38.559761 | loss_bdry: 0.096149 | test_err: 0.065822\n"
     ]
    },
    {
     "name": "stderr",
     "output_type": "stream",
     "text": [
      "  2%|▏         | 313/20000 [00:05<05:41, 57.68it/s]"
     ]
    },
    {
     "name": "stdout",
     "output_type": "stream",
     "text": [
      "300/20000 | loss_l2: 20.553383 |  loss_inf: 29.382578 | loss_bdry: 0.089343 | test_err: 0.058904\n"
     ]
    },
    {
     "name": "stderr",
     "output_type": "stream",
     "text": [
      "  2%|▏         | 408/20000 [00:06<05:28, 59.61it/s]"
     ]
    },
    {
     "name": "stdout",
     "output_type": "stream",
     "text": [
      "400/20000 | loss_l2: 14.950746 |  loss_inf: 24.334690 | loss_bdry: 0.082401 | test_err: 0.051987\n"
     ]
    },
    {
     "name": "stderr",
     "output_type": "stream",
     "text": [
      "  3%|▎         | 514/20000 [00:08<05:02, 64.36it/s]"
     ]
    },
    {
     "name": "stdout",
     "output_type": "stream",
     "text": [
      "500/20000 | loss_l2: 12.168622 |  loss_inf: 21.737825 | loss_bdry: 0.076334 | test_err: 0.046198\n"
     ]
    },
    {
     "name": "stderr",
     "output_type": "stream",
     "text": [
      "  3%|▎         | 614/20000 [00:10<05:15, 61.40it/s]"
     ]
    },
    {
     "name": "stdout",
     "output_type": "stream",
     "text": [
      "600/20000 | loss_l2: 10.041972 |  loss_inf: 19.547804 | loss_bdry: 0.070616 | test_err: 0.040807\n"
     ]
    },
    {
     "name": "stderr",
     "output_type": "stream",
     "text": [
      "  4%|▎         | 710/20000 [00:11<04:44, 67.91it/s]"
     ]
    },
    {
     "name": "stdout",
     "output_type": "stream",
     "text": [
      "700/20000 | loss_l2: 8.129276 |  loss_inf: 17.566639 | loss_bdry: 0.065875 | test_err: 0.036497\n"
     ]
    },
    {
     "name": "stderr",
     "output_type": "stream",
     "text": [
      "  4%|▍         | 810/20000 [00:13<04:51, 65.85it/s]"
     ]
    },
    {
     "name": "stdout",
     "output_type": "stream",
     "text": [
      "800/20000 | loss_l2: 6.490865 |  loss_inf: 15.643521 | loss_bdry: 0.061752 | test_err: 0.032789\n"
     ]
    },
    {
     "name": "stderr",
     "output_type": "stream",
     "text": [
      "  5%|▍         | 908/20000 [00:14<04:51, 65.53it/s]"
     ]
    },
    {
     "name": "stdout",
     "output_type": "stream",
     "text": [
      "900/20000 | loss_l2: 5.135899 |  loss_inf: 13.834781 | loss_bdry: 0.058508 | test_err: 0.029901\n"
     ]
    },
    {
     "name": "stderr",
     "output_type": "stream",
     "text": [
      "  5%|▌         | 1007/20000 [00:16<06:18, 50.14it/s]"
     ]
    },
    {
     "name": "stdout",
     "output_type": "stream",
     "text": [
      "1000/20000 | loss_l2: 4.063509 |  loss_inf: 12.408668 | loss_bdry: 0.055790 | test_err: 0.027668\n"
     ]
    },
    {
     "name": "stderr",
     "output_type": "stream",
     "text": [
      "  6%|▌         | 1113/20000 [00:18<05:03, 62.22it/s]"
     ]
    },
    {
     "name": "stdout",
     "output_type": "stream",
     "text": [
      "1100/20000 | loss_l2: 3.199652 |  loss_inf: 11.134374 | loss_bdry: 0.053556 | test_err: 0.025947\n"
     ]
    },
    {
     "name": "stderr",
     "output_type": "stream",
     "text": [
      "  6%|▌         | 1212/20000 [00:19<05:04, 61.70it/s]"
     ]
    },
    {
     "name": "stdout",
     "output_type": "stream",
     "text": [
      "1200/20000 | loss_l2: 2.495257 |  loss_inf: 9.986339 | loss_bdry: 0.051899 | test_err: 0.024778\n"
     ]
    },
    {
     "name": "stderr",
     "output_type": "stream",
     "text": [
      "  7%|▋         | 1312/20000 [00:21<04:46, 65.15it/s]"
     ]
    },
    {
     "name": "stdout",
     "output_type": "stream",
     "text": [
      "1300/20000 | loss_l2: 1.945884 |  loss_inf: 8.899642 | loss_bdry: 0.050647 | test_err: 0.023999\n"
     ]
    },
    {
     "name": "stderr",
     "output_type": "stream",
     "text": [
      "  7%|▋         | 1414/20000 [00:22<04:28, 69.33it/s]"
     ]
    },
    {
     "name": "stdout",
     "output_type": "stream",
     "text": [
      "1400/20000 | loss_l2: 1.521414 |  loss_inf: 8.016101 | loss_bdry: 0.049790 | test_err: 0.023557\n"
     ]
    },
    {
     "name": "stderr",
     "output_type": "stream",
     "text": [
      "  8%|▊         | 1513/20000 [00:24<04:30, 68.33it/s]"
     ]
    },
    {
     "name": "stdout",
     "output_type": "stream",
     "text": [
      "1500/20000 | loss_l2: 1.232414 |  loss_inf: 7.359529 | loss_bdry: 0.049207 | test_err: 0.023328\n"
     ]
    },
    {
     "name": "stderr",
     "output_type": "stream",
     "text": [
      "  8%|▊         | 1608/20000 [00:25<04:34, 67.07it/s]"
     ]
    },
    {
     "name": "stdout",
     "output_type": "stream",
     "text": [
      "1600/20000 | loss_l2: 1.029746 |  loss_inf: 6.761398 | loss_bdry: 0.048816 | test_err: 0.023263\n"
     ]
    },
    {
     "name": "stderr",
     "output_type": "stream",
     "text": [
      "  9%|▊         | 1715/20000 [00:27<04:35, 66.42it/s]"
     ]
    },
    {
     "name": "stdout",
     "output_type": "stream",
     "text": [
      "1700/20000 | loss_l2: 0.882288 |  loss_inf: 6.260753 | loss_bdry: 0.048552 | test_err: 0.023277\n"
     ]
    },
    {
     "name": "stderr",
     "output_type": "stream",
     "text": [
      "  9%|▉         | 1815/20000 [00:28<04:27, 67.98it/s]"
     ]
    },
    {
     "name": "stdout",
     "output_type": "stream",
     "text": [
      "1800/20000 | loss_l2: 0.785149 |  loss_inf: 5.871310 | loss_bdry: 0.048404 | test_err: 0.023351\n"
     ]
    },
    {
     "name": "stderr",
     "output_type": "stream",
     "text": [
      " 10%|▉         | 1907/20000 [00:30<05:17, 57.05it/s]"
     ]
    },
    {
     "name": "stdout",
     "output_type": "stream",
     "text": [
      "1900/20000 | loss_l2: 0.716069 |  loss_inf: 5.571124 | loss_bdry: 0.048295 | test_err: 0.023499\n"
     ]
    },
    {
     "name": "stderr",
     "output_type": "stream",
     "text": [
      " 10%|█         | 2006/20000 [00:32<06:37, 45.22it/s]"
     ]
    },
    {
     "name": "stdout",
     "output_type": "stream",
     "text": [
      "2000/20000 | loss_l2: 0.663369 |  loss_inf: 5.355597 | loss_bdry: 0.048215 | test_err: 0.023645\n"
     ]
    },
    {
     "name": "stderr",
     "output_type": "stream",
     "text": [
      " 11%|█         | 2107/20000 [00:33<04:21, 68.30it/s]"
     ]
    },
    {
     "name": "stdout",
     "output_type": "stream",
     "text": [
      "2100/20000 | loss_l2: 0.619910 |  loss_inf: 5.153970 | loss_bdry: 0.048178 | test_err: 0.023793\n"
     ]
    },
    {
     "name": "stderr",
     "output_type": "stream",
     "text": [
      " 11%|█         | 2210/20000 [00:35<04:18, 68.71it/s]"
     ]
    },
    {
     "name": "stdout",
     "output_type": "stream",
     "text": [
      "2200/20000 | loss_l2: 0.578221 |  loss_inf: 4.955373 | loss_bdry: 0.048196 | test_err: 0.023967\n"
     ]
    },
    {
     "name": "stderr",
     "output_type": "stream",
     "text": [
      " 12%|█▏        | 2312/20000 [00:36<04:28, 65.78it/s]"
     ]
    },
    {
     "name": "stdout",
     "output_type": "stream",
     "text": [
      "2300/20000 | loss_l2: 0.536232 |  loss_inf: 4.752601 | loss_bdry: 0.048227 | test_err: 0.024133\n"
     ]
    },
    {
     "name": "stderr",
     "output_type": "stream",
     "text": [
      " 12%|█▏        | 2410/20000 [00:38<05:22, 54.57it/s]"
     ]
    },
    {
     "name": "stdout",
     "output_type": "stream",
     "text": [
      "2400/20000 | loss_l2: 0.495908 |  loss_inf: 4.563633 | loss_bdry: 0.048288 | test_err: 0.024294\n"
     ]
    },
    {
     "name": "stderr",
     "output_type": "stream",
     "text": [
      " 13%|█▎        | 2509/20000 [00:39<04:35, 63.60it/s]"
     ]
    },
    {
     "name": "stdout",
     "output_type": "stream",
     "text": [
      "2500/20000 | loss_l2: 0.459878 |  loss_inf: 4.392804 | loss_bdry: 0.048322 | test_err: 0.024420\n"
     ]
    },
    {
     "name": "stderr",
     "output_type": "stream",
     "text": [
      " 13%|█▎        | 2614/20000 [00:41<04:21, 66.40it/s]"
     ]
    },
    {
     "name": "stdout",
     "output_type": "stream",
     "text": [
      "2600/20000 | loss_l2: 0.421974 |  loss_inf: 4.192763 | loss_bdry: 0.048352 | test_err: 0.024510\n"
     ]
    },
    {
     "name": "stderr",
     "output_type": "stream",
     "text": [
      " 14%|█▎        | 2708/20000 [00:43<04:27, 64.63it/s]"
     ]
    },
    {
     "name": "stdout",
     "output_type": "stream",
     "text": [
      "2700/20000 | loss_l2: 0.387737 |  loss_inf: 4.028221 | loss_bdry: 0.048425 | test_err: 0.024634\n"
     ]
    },
    {
     "name": "stderr",
     "output_type": "stream",
     "text": [
      " 14%|█▍        | 2809/20000 [00:44<04:26, 64.60it/s]"
     ]
    },
    {
     "name": "stdout",
     "output_type": "stream",
     "text": [
      "2800/20000 | loss_l2: 0.351567 |  loss_inf: 3.827109 | loss_bdry: 0.048462 | test_err: 0.024695\n"
     ]
    },
    {
     "name": "stderr",
     "output_type": "stream",
     "text": [
      " 15%|█▍        | 2908/20000 [00:46<04:37, 61.62it/s]"
     ]
    },
    {
     "name": "stdout",
     "output_type": "stream",
     "text": [
      "2900/20000 | loss_l2: 0.316096 |  loss_inf: 3.608990 | loss_bdry: 0.048504 | test_err: 0.024745\n"
     ]
    },
    {
     "name": "stderr",
     "output_type": "stream",
     "text": [
      " 15%|█▌        | 3007/20000 [00:47<05:48, 48.77it/s]"
     ]
    },
    {
     "name": "stdout",
     "output_type": "stream",
     "text": [
      "3000/20000 | loss_l2: 0.283047 |  loss_inf: 3.398577 | loss_bdry: 0.048546 | test_err: 0.024810\n"
     ]
    },
    {
     "name": "stderr",
     "output_type": "stream",
     "text": [
      " 16%|█▌        | 3108/20000 [00:49<04:19, 65.00it/s]"
     ]
    },
    {
     "name": "stdout",
     "output_type": "stream",
     "text": [
      "3100/20000 | loss_l2: 0.254766 |  loss_inf: 3.234744 | loss_bdry: 0.048571 | test_err: 0.024841\n"
     ]
    },
    {
     "name": "stderr",
     "output_type": "stream",
     "text": [
      " 16%|█▌        | 3209/20000 [00:50<04:22, 63.92it/s]"
     ]
    },
    {
     "name": "stdout",
     "output_type": "stream",
     "text": [
      "3200/20000 | loss_l2: 0.222895 |  loss_inf: 3.017977 | loss_bdry: 0.048625 | test_err: 0.024873\n"
     ]
    },
    {
     "name": "stderr",
     "output_type": "stream",
     "text": [
      " 17%|█▋        | 3309/20000 [00:52<04:35, 60.53it/s]"
     ]
    },
    {
     "name": "stdout",
     "output_type": "stream",
     "text": [
      "3300/20000 | loss_l2: 0.195994 |  loss_inf: 2.809488 | loss_bdry: 0.048635 | test_err: 0.024869\n"
     ]
    },
    {
     "name": "stderr",
     "output_type": "stream",
     "text": [
      " 17%|█▋        | 3413/20000 [00:54<04:12, 65.64it/s]"
     ]
    },
    {
     "name": "stdout",
     "output_type": "stream",
     "text": [
      "3400/20000 | loss_l2: 0.173254 |  loss_inf: 2.665501 | loss_bdry: 0.048653 | test_err: 0.024861\n"
     ]
    },
    {
     "name": "stderr",
     "output_type": "stream",
     "text": [
      " 18%|█▊        | 3507/20000 [00:55<04:05, 67.29it/s]"
     ]
    },
    {
     "name": "stdout",
     "output_type": "stream",
     "text": [
      "3500/20000 | loss_l2: 0.147014 |  loss_inf: 2.452611 | loss_bdry: 0.048706 | test_err: 0.024846\n"
     ]
    },
    {
     "name": "stderr",
     "output_type": "stream",
     "text": [
      " 18%|█▊        | 3609/20000 [00:57<04:02, 67.70it/s]"
     ]
    },
    {
     "name": "stdout",
     "output_type": "stream",
     "text": [
      "3600/20000 | loss_l2: 0.125760 |  loss_inf: 2.241228 | loss_bdry: 0.048704 | test_err: 0.024829\n"
     ]
    },
    {
     "name": "stderr",
     "output_type": "stream",
     "text": [
      " 19%|█▊        | 3711/20000 [00:58<03:55, 69.25it/s]"
     ]
    },
    {
     "name": "stdout",
     "output_type": "stream",
     "text": [
      "3700/20000 | loss_l2: 0.111733 |  loss_inf: 2.129003 | loss_bdry: 0.048755 | test_err: 0.024789\n"
     ]
    },
    {
     "name": "stderr",
     "output_type": "stream",
     "text": [
      " 19%|█▉        | 3812/20000 [01:00<04:21, 61.85it/s]"
     ]
    },
    {
     "name": "stdout",
     "output_type": "stream",
     "text": [
      "3800/20000 | loss_l2: 0.092485 |  loss_inf: 1.929583 | loss_bdry: 0.048755 | test_err: 0.024758\n"
     ]
    },
    {
     "name": "stderr",
     "output_type": "stream",
     "text": [
      " 20%|█▉        | 3912/20000 [01:01<04:13, 63.44it/s]"
     ]
    },
    {
     "name": "stdout",
     "output_type": "stream",
     "text": [
      "3900/20000 | loss_l2: 0.083585 |  loss_inf: 1.851415 | loss_bdry: 0.048772 | test_err: 0.024692\n"
     ]
    },
    {
     "name": "stderr",
     "output_type": "stream",
     "text": [
      " 20%|██        | 4003/20000 [01:03<05:46, 46.21it/s]"
     ]
    },
    {
     "name": "stdout",
     "output_type": "stream",
     "text": [
      "4000/20000 | loss_l2: 0.068638 |  loss_inf: 1.671252 | loss_bdry: 0.048799 | test_err: 0.024676\n"
     ]
    },
    {
     "name": "stderr",
     "output_type": "stream",
     "text": [
      " 21%|██        | 4108/20000 [01:05<03:59, 66.41it/s]"
     ]
    },
    {
     "name": "stdout",
     "output_type": "stream",
     "text": [
      "4100/20000 | loss_l2: 0.061105 |  loss_inf: 1.585138 | loss_bdry: 0.048819 | test_err: 0.024648\n"
     ]
    },
    {
     "name": "stderr",
     "output_type": "stream",
     "text": [
      " 21%|██        | 4211/20000 [01:06<03:58, 66.21it/s]"
     ]
    },
    {
     "name": "stdout",
     "output_type": "stream",
     "text": [
      "4200/20000 | loss_l2: 0.043017 |  loss_inf: 1.303294 | loss_bdry: 0.048829 | test_err: 0.024616\n"
     ]
    },
    {
     "name": "stderr",
     "output_type": "stream",
     "text": [
      " 22%|██▏       | 4307/20000 [01:08<03:58, 65.92it/s]"
     ]
    },
    {
     "name": "stdout",
     "output_type": "stream",
     "text": [
      "4300/20000 | loss_l2: 0.037079 |  loss_inf: 1.223698 | loss_bdry: 0.048822 | test_err: 0.024551\n"
     ]
    },
    {
     "name": "stderr",
     "output_type": "stream",
     "text": [
      " 22%|██▏       | 4415/20000 [01:09<03:57, 65.53it/s]"
     ]
    },
    {
     "name": "stdout",
     "output_type": "stream",
     "text": [
      "4400/20000 | loss_l2: 0.038424 |  loss_inf: 1.261360 | loss_bdry: 0.048885 | test_err: 0.024509\n"
     ]
    },
    {
     "name": "stderr",
     "output_type": "stream",
     "text": [
      " 23%|██▎       | 4507/20000 [01:11<04:05, 63.07it/s]"
     ]
    },
    {
     "name": "stdout",
     "output_type": "stream",
     "text": [
      "4500/20000 | loss_l2: 0.026490 |  loss_inf: 1.022253 | loss_bdry: 0.048890 | test_err: 0.024430\n"
     ]
    },
    {
     "name": "stderr",
     "output_type": "stream",
     "text": [
      " 23%|██▎       | 4613/20000 [01:12<03:48, 67.33it/s]"
     ]
    },
    {
     "name": "stdout",
     "output_type": "stream",
     "text": [
      "4600/20000 | loss_l2: 0.023551 |  loss_inf: 0.979851 | loss_bdry: 0.048857 | test_err: 0.024446\n"
     ]
    },
    {
     "name": "stderr",
     "output_type": "stream",
     "text": [
      " 24%|██▎       | 4707/20000 [01:14<03:55, 65.04it/s]"
     ]
    },
    {
     "name": "stdout",
     "output_type": "stream",
     "text": [
      "4700/20000 | loss_l2: 0.023855 |  loss_inf: 0.989685 | loss_bdry: 0.048928 | test_err: 0.024384\n"
     ]
    },
    {
     "name": "stderr",
     "output_type": "stream",
     "text": [
      " 24%|██▍       | 4808/20000 [01:15<03:52, 65.21it/s]"
     ]
    },
    {
     "name": "stdout",
     "output_type": "stream",
     "text": [
      "4800/20000 | loss_l2: 0.018000 |  loss_inf: 0.846515 | loss_bdry: 0.048891 | test_err: 0.024337\n"
     ]
    },
    {
     "name": "stderr",
     "output_type": "stream",
     "text": [
      " 25%|██▍       | 4908/20000 [01:17<03:53, 64.62it/s]"
     ]
    },
    {
     "name": "stdout",
     "output_type": "stream",
     "text": [
      "4900/20000 | loss_l2: 0.032326 |  loss_inf: 1.138937 | loss_bdry: 0.049014 | test_err: 0.024307\n"
     ]
    },
    {
     "name": "stderr",
     "output_type": "stream",
     "text": [
      " 25%|██▌       | 5005/20000 [01:19<05:33, 44.96it/s]"
     ]
    },
    {
     "name": "stdout",
     "output_type": "stream",
     "text": [
      "5000/20000 | loss_l2: 0.021853 |  loss_inf: 0.974812 | loss_bdry: 0.048878 | test_err: 0.024295\n"
     ]
    },
    {
     "name": "stderr",
     "output_type": "stream",
     "text": [
      " 26%|██▌       | 5108/20000 [01:20<04:01, 61.74it/s]"
     ]
    },
    {
     "name": "stdout",
     "output_type": "stream",
     "text": [
      "5100/20000 | loss_l2: 0.014187 |  loss_inf: 0.745300 | loss_bdry: 0.048949 | test_err: 0.024236\n"
     ]
    },
    {
     "name": "stderr",
     "output_type": "stream",
     "text": [
      " 26%|██▌       | 5215/20000 [01:22<03:42, 66.53it/s]"
     ]
    },
    {
     "name": "stdout",
     "output_type": "stream",
     "text": [
      "5200/20000 | loss_l2: 0.041888 |  loss_inf: 1.292028 | loss_bdry: 0.048961 | test_err: 0.024228\n"
     ]
    },
    {
     "name": "stderr",
     "output_type": "stream",
     "text": [
      " 27%|██▋       | 5313/20000 [01:23<03:40, 66.74it/s]"
     ]
    },
    {
     "name": "stdout",
     "output_type": "stream",
     "text": [
      "5300/20000 | loss_l2: 0.047893 |  loss_inf: 1.383667 | loss_bdry: 0.049062 | test_err: 0.024179\n"
     ]
    },
    {
     "name": "stderr",
     "output_type": "stream",
     "text": [
      " 27%|██▋       | 5409/20000 [01:25<03:28, 69.99it/s]"
     ]
    },
    {
     "name": "stdout",
     "output_type": "stream",
     "text": [
      "5400/20000 | loss_l2: 0.030723 |  loss_inf: 1.128458 | loss_bdry: 0.049054 | test_err: 0.024129\n"
     ]
    },
    {
     "name": "stderr",
     "output_type": "stream",
     "text": [
      " 28%|██▊       | 5513/20000 [01:26<03:36, 66.84it/s]"
     ]
    },
    {
     "name": "stdout",
     "output_type": "stream",
     "text": [
      "5500/20000 | loss_l2: 0.040438 |  loss_inf: 1.260986 | loss_bdry: 0.049047 | test_err: 0.024127\n"
     ]
    },
    {
     "name": "stderr",
     "output_type": "stream",
     "text": [
      " 28%|██▊       | 5612/20000 [01:28<03:57, 60.69it/s]"
     ]
    },
    {
     "name": "stdout",
     "output_type": "stream",
     "text": [
      "5600/20000 | loss_l2: 0.017878 |  loss_inf: 0.879882 | loss_bdry: 0.048932 | test_err: 0.024217\n"
     ]
    },
    {
     "name": "stderr",
     "output_type": "stream",
     "text": [
      " 29%|██▊       | 5708/20000 [01:29<03:31, 67.55it/s]"
     ]
    },
    {
     "name": "stdout",
     "output_type": "stream",
     "text": [
      "5700/20000 | loss_l2: 0.011384 |  loss_inf: 0.662703 | loss_bdry: 0.048992 | test_err: 0.024212\n"
     ]
    },
    {
     "name": "stderr",
     "output_type": "stream",
     "text": [
      " 29%|██▉       | 5808/20000 [01:31<03:30, 67.28it/s]"
     ]
    },
    {
     "name": "stdout",
     "output_type": "stream",
     "text": [
      "5800/20000 | loss_l2: 0.015033 |  loss_inf: 0.761520 | loss_bdry: 0.049016 | test_err: 0.024156\n"
     ]
    },
    {
     "name": "stderr",
     "output_type": "stream",
     "text": [
      " 30%|██▉       | 5907/20000 [01:32<03:32, 66.40it/s]"
     ]
    },
    {
     "name": "stdout",
     "output_type": "stream",
     "text": [
      "5900/20000 | loss_l2: 0.020789 |  loss_inf: 0.902226 | loss_bdry: 0.048987 | test_err: 0.024194\n"
     ]
    },
    {
     "name": "stderr",
     "output_type": "stream",
     "text": [
      " 30%|███       | 6005/20000 [01:34<04:45, 49.03it/s]"
     ]
    },
    {
     "name": "stdout",
     "output_type": "stream",
     "text": [
      "6000/20000 | loss_l2: 0.020122 |  loss_inf: 0.918502 | loss_bdry: 0.048931 | test_err: 0.024232\n"
     ]
    },
    {
     "name": "stderr",
     "output_type": "stream",
     "text": [
      " 31%|███       | 6115/20000 [01:36<03:22, 68.69it/s]"
     ]
    },
    {
     "name": "stdout",
     "output_type": "stream",
     "text": [
      "6100/20000 | loss_l2: 0.035961 |  loss_inf: 1.250176 | loss_bdry: 0.048915 | test_err: 0.024192\n"
     ]
    },
    {
     "name": "stderr",
     "output_type": "stream",
     "text": [
      " 31%|███       | 6215/20000 [01:37<03:25, 66.97it/s]"
     ]
    },
    {
     "name": "stdout",
     "output_type": "stream",
     "text": [
      "6200/20000 | loss_l2: 0.018888 |  loss_inf: 0.871731 | loss_bdry: 0.048963 | test_err: 0.024127\n"
     ]
    },
    {
     "name": "stderr",
     "output_type": "stream",
     "text": [
      " 32%|███▏      | 6307/20000 [01:39<03:29, 65.38it/s]"
     ]
    },
    {
     "name": "stdout",
     "output_type": "stream",
     "text": [
      "6300/20000 | loss_l2: 0.048348 |  loss_inf: 1.440008 | loss_bdry: 0.048824 | test_err: 0.024273\n"
     ]
    },
    {
     "name": "stderr",
     "output_type": "stream",
     "text": [
      " 32%|███▏      | 6409/20000 [01:40<03:26, 65.97it/s]"
     ]
    },
    {
     "name": "stdout",
     "output_type": "stream",
     "text": [
      "6400/20000 | loss_l2: 0.039800 |  loss_inf: 1.317966 | loss_bdry: 0.048856 | test_err: 0.024277\n"
     ]
    },
    {
     "name": "stderr",
     "output_type": "stream",
     "text": [
      " 33%|███▎      | 6515/20000 [01:42<03:30, 64.15it/s]"
     ]
    },
    {
     "name": "stdout",
     "output_type": "stream",
     "text": [
      "6500/20000 | loss_l2: 0.032953 |  loss_inf: 1.214544 | loss_bdry: 0.048862 | test_err: 0.024253\n"
     ]
    },
    {
     "name": "stderr",
     "output_type": "stream",
     "text": [
      " 33%|███▎      | 6614/20000 [01:43<03:08, 71.02it/s]"
     ]
    },
    {
     "name": "stdout",
     "output_type": "stream",
     "text": [
      "6600/20000 | loss_l2: 0.029950 |  loss_inf: 1.152392 | loss_bdry: 0.048892 | test_err: 0.024279\n"
     ]
    },
    {
     "name": "stderr",
     "output_type": "stream",
     "text": [
      " 34%|███▎      | 6710/20000 [01:45<03:17, 67.43it/s]"
     ]
    },
    {
     "name": "stdout",
     "output_type": "stream",
     "text": [
      "6700/20000 | loss_l2: 0.028141 |  loss_inf: 1.044388 | loss_bdry: 0.049038 | test_err: 0.024190\n"
     ]
    },
    {
     "name": "stderr",
     "output_type": "stream",
     "text": [
      " 34%|███▍      | 6813/20000 [01:46<03:18, 66.49it/s]"
     ]
    },
    {
     "name": "stdout",
     "output_type": "stream",
     "text": [
      "6800/20000 | loss_l2: 0.009565 |  loss_inf: 0.624315 | loss_bdry: 0.048988 | test_err: 0.024218\n"
     ]
    },
    {
     "name": "stderr",
     "output_type": "stream",
     "text": [
      " 35%|███▍      | 6912/20000 [01:48<03:20, 65.30it/s]"
     ]
    },
    {
     "name": "stdout",
     "output_type": "stream",
     "text": [
      "6900/20000 | loss_l2: 0.043592 |  loss_inf: 1.292286 | loss_bdry: 0.049011 | test_err: 0.024220\n"
     ]
    },
    {
     "name": "stderr",
     "output_type": "stream",
     "text": [
      " 35%|███▌      | 7000/20000 [01:49<03:17, 65.84it/s]"
     ]
    },
    {
     "name": "stdout",
     "output_type": "stream",
     "text": [
      "7000/20000 | loss_l2: 0.056080 |  loss_inf: 1.533483 | loss_bdry: 0.049176 | test_err: 0.024276\n"
     ]
    },
    {
     "name": "stderr",
     "output_type": "stream",
     "text": [
      " 36%|███▌      | 7112/20000 [01:51<03:17, 65.26it/s]"
     ]
    },
    {
     "name": "stdout",
     "output_type": "stream",
     "text": [
      "7100/20000 | loss_l2: 0.042791 |  loss_inf: 1.371693 | loss_bdry: 0.048851 | test_err: 0.024133\n"
     ]
    },
    {
     "name": "stderr",
     "output_type": "stream",
     "text": [
      " 36%|███▌      | 7210/20000 [01:53<03:11, 66.74it/s]"
     ]
    },
    {
     "name": "stdout",
     "output_type": "stream",
     "text": [
      "7200/20000 | loss_l2: 0.019244 |  loss_inf: 0.896702 | loss_bdry: 0.049064 | test_err: 0.024098\n"
     ]
    },
    {
     "name": "stderr",
     "output_type": "stream",
     "text": [
      " 37%|███▋      | 7314/20000 [01:54<03:06, 68.10it/s]"
     ]
    },
    {
     "name": "stdout",
     "output_type": "stream",
     "text": [
      "7300/20000 | loss_l2: 0.026261 |  loss_inf: 1.031511 | loss_bdry: 0.049008 | test_err: 0.024203\n"
     ]
    },
    {
     "name": "stderr",
     "output_type": "stream",
     "text": [
      " 37%|███▋      | 7409/20000 [01:56<03:08, 66.82it/s]"
     ]
    },
    {
     "name": "stdout",
     "output_type": "stream",
     "text": [
      "7400/20000 | loss_l2: 0.017792 |  loss_inf: 0.857801 | loss_bdry: 0.049023 | test_err: 0.024211\n"
     ]
    },
    {
     "name": "stderr",
     "output_type": "stream",
     "text": [
      " 38%|███▊      | 7509/20000 [01:57<02:56, 70.63it/s]"
     ]
    },
    {
     "name": "stdout",
     "output_type": "stream",
     "text": [
      "7500/20000 | loss_l2: 0.027332 |  loss_inf: 1.033761 | loss_bdry: 0.049018 | test_err: 0.024209\n"
     ]
    },
    {
     "name": "stderr",
     "output_type": "stream",
     "text": [
      " 38%|███▊      | 7610/20000 [01:59<03:02, 68.06it/s]"
     ]
    },
    {
     "name": "stdout",
     "output_type": "stream",
     "text": [
      "7600/20000 | loss_l2: 0.014097 |  loss_inf: 0.758589 | loss_bdry: 0.049002 | test_err: 0.024233\n"
     ]
    },
    {
     "name": "stderr",
     "output_type": "stream",
     "text": [
      " 39%|███▊      | 7711/20000 [02:00<03:20, 61.35it/s]"
     ]
    },
    {
     "name": "stdout",
     "output_type": "stream",
     "text": [
      "7700/20000 | loss_l2: 0.016645 |  loss_inf: 0.819226 | loss_bdry: 0.049035 | test_err: 0.024212\n"
     ]
    },
    {
     "name": "stderr",
     "output_type": "stream",
     "text": [
      " 39%|███▉      | 7813/20000 [02:02<03:20, 60.82it/s]"
     ]
    },
    {
     "name": "stdout",
     "output_type": "stream",
     "text": [
      "7800/20000 | loss_l2: 0.024678 |  loss_inf: 1.038433 | loss_bdry: 0.048956 | test_err: 0.024234\n"
     ]
    },
    {
     "name": "stderr",
     "output_type": "stream",
     "text": [
      " 40%|███▉      | 7908/20000 [02:03<03:00, 67.10it/s]"
     ]
    },
    {
     "name": "stdout",
     "output_type": "stream",
     "text": [
      "7900/20000 | loss_l2: 0.041676 |  loss_inf: 1.262395 | loss_bdry: 0.048930 | test_err: 0.024282\n"
     ]
    },
    {
     "name": "stderr",
     "output_type": "stream",
     "text": [
      " 40%|████      | 8003/20000 [02:05<03:53, 51.34it/s]"
     ]
    },
    {
     "name": "stdout",
     "output_type": "stream",
     "text": [
      "8000/20000 | loss_l2: 0.033288 |  loss_inf: 1.221389 | loss_bdry: 0.048874 | test_err: 0.024290\n"
     ]
    },
    {
     "name": "stderr",
     "output_type": "stream",
     "text": [
      " 41%|████      | 8113/20000 [02:06<03:00, 65.87it/s]"
     ]
    },
    {
     "name": "stdout",
     "output_type": "stream",
     "text": [
      "8100/20000 | loss_l2: 0.023193 |  loss_inf: 1.002829 | loss_bdry: 0.048928 | test_err: 0.024267\n"
     ]
    },
    {
     "name": "stderr",
     "output_type": "stream",
     "text": [
      " 41%|████      | 8208/20000 [02:08<03:07, 62.94it/s]"
     ]
    },
    {
     "name": "stdout",
     "output_type": "stream",
     "text": [
      "8200/20000 | loss_l2: 0.057547 |  loss_inf: 1.557548 | loss_bdry: 0.048851 | test_err: 0.024255\n"
     ]
    },
    {
     "name": "stderr",
     "output_type": "stream",
     "text": [
      " 42%|████▏     | 8311/20000 [02:09<02:54, 67.15it/s]"
     ]
    },
    {
     "name": "stdout",
     "output_type": "stream",
     "text": [
      "8300/20000 | loss_l2: 0.038772 |  loss_inf: 1.270406 | loss_bdry: 0.048892 | test_err: 0.024273\n"
     ]
    },
    {
     "name": "stderr",
     "output_type": "stream",
     "text": [
      " 42%|████▏     | 8410/20000 [02:11<02:55, 66.15it/s]"
     ]
    },
    {
     "name": "stdout",
     "output_type": "stream",
     "text": [
      "8400/20000 | loss_l2: 0.010119 |  loss_inf: 0.620656 | loss_bdry: 0.049014 | test_err: 0.024209\n"
     ]
    },
    {
     "name": "stderr",
     "output_type": "stream",
     "text": [
      " 43%|████▎     | 8509/20000 [02:13<02:55, 65.56it/s]"
     ]
    },
    {
     "name": "stdout",
     "output_type": "stream",
     "text": [
      "8500/20000 | loss_l2: 0.032252 |  loss_inf: 1.119175 | loss_bdry: 0.049003 | test_err: 0.024187\n"
     ]
    },
    {
     "name": "stderr",
     "output_type": "stream",
     "text": [
      " 43%|████▎     | 8613/20000 [02:14<02:49, 67.26it/s]"
     ]
    },
    {
     "name": "stdout",
     "output_type": "stream",
     "text": [
      "8600/20000 | loss_l2: 0.017412 |  loss_inf: 0.839559 | loss_bdry: 0.049033 | test_err: 0.024191\n"
     ]
    },
    {
     "name": "stderr",
     "output_type": "stream",
     "text": [
      " 44%|████▎     | 8716/20000 [02:16<02:44, 68.66it/s]"
     ]
    },
    {
     "name": "stdout",
     "output_type": "stream",
     "text": [
      "8700/20000 | loss_l2: 0.021629 |  loss_inf: 0.916778 | loss_bdry: 0.048963 | test_err: 0.024218\n"
     ]
    },
    {
     "name": "stderr",
     "output_type": "stream",
     "text": [
      " 44%|████▍     | 8811/20000 [02:17<03:08, 59.39it/s]"
     ]
    },
    {
     "name": "stdout",
     "output_type": "stream",
     "text": [
      "8800/20000 | loss_l2: 0.022129 |  loss_inf: 0.964567 | loss_bdry: 0.048992 | test_err: 0.024210\n"
     ]
    },
    {
     "name": "stderr",
     "output_type": "stream",
     "text": [
      " 45%|████▍     | 8912/20000 [02:19<02:43, 67.76it/s]"
     ]
    },
    {
     "name": "stdout",
     "output_type": "stream",
     "text": [
      "8900/20000 | loss_l2: 0.049668 |  loss_inf: 1.432872 | loss_bdry: 0.049189 | test_err: 0.024142\n"
     ]
    },
    {
     "name": "stderr",
     "output_type": "stream",
     "text": [
      " 45%|████▌     | 9004/20000 [02:20<03:42, 49.50it/s]"
     ]
    },
    {
     "name": "stdout",
     "output_type": "stream",
     "text": [
      "9000/20000 | loss_l2: 0.028845 |  loss_inf: 1.093302 | loss_bdry: 0.049140 | test_err: 0.024126\n"
     ]
    },
    {
     "name": "stderr",
     "output_type": "stream",
     "text": [
      " 46%|████▌     | 9106/20000 [02:22<02:58, 61.00it/s]"
     ]
    },
    {
     "name": "stdout",
     "output_type": "stream",
     "text": [
      "9100/20000 | loss_l2: 0.026241 |  loss_inf: 1.044571 | loss_bdry: 0.049132 | test_err: 0.024126\n"
     ]
    },
    {
     "name": "stderr",
     "output_type": "stream",
     "text": [
      " 46%|████▌     | 9211/20000 [02:23<02:37, 68.55it/s]"
     ]
    },
    {
     "name": "stdout",
     "output_type": "stream",
     "text": [
      "9200/20000 | loss_l2: 0.027636 |  loss_inf: 1.077797 | loss_bdry: 0.049131 | test_err: 0.024126\n"
     ]
    },
    {
     "name": "stderr",
     "output_type": "stream",
     "text": [
      " 47%|████▋     | 9312/20000 [02:25<02:38, 67.29it/s]"
     ]
    },
    {
     "name": "stdout",
     "output_type": "stream",
     "text": [
      "9300/20000 | loss_l2: 0.030518 |  loss_inf: 1.140562 | loss_bdry: 0.049143 | test_err: 0.024117\n"
     ]
    },
    {
     "name": "stderr",
     "output_type": "stream",
     "text": [
      " 47%|████▋     | 9415/20000 [02:26<02:38, 66.95it/s]"
     ]
    },
    {
     "name": "stdout",
     "output_type": "stream",
     "text": [
      "9400/20000 | loss_l2: 0.026188 |  loss_inf: 1.054089 | loss_bdry: 0.049122 | test_err: 0.024115\n"
     ]
    },
    {
     "name": "stderr",
     "output_type": "stream",
     "text": [
      " 48%|████▊     | 9507/20000 [02:28<02:47, 62.76it/s]"
     ]
    },
    {
     "name": "stdout",
     "output_type": "stream",
     "text": [
      "9500/20000 | loss_l2: 0.040653 |  loss_inf: 1.306344 | loss_bdry: 0.048890 | test_err: 0.024146\n"
     ]
    },
    {
     "name": "stderr",
     "output_type": "stream",
     "text": [
      " 48%|████▊     | 9608/20000 [02:29<02:42, 64.02it/s]"
     ]
    },
    {
     "name": "stdout",
     "output_type": "stream",
     "text": [
      "9600/20000 | loss_l2: 0.039119 |  loss_inf: 1.292989 | loss_bdry: 0.048884 | test_err: 0.024138\n"
     ]
    },
    {
     "name": "stderr",
     "output_type": "stream",
     "text": [
      " 49%|████▊     | 9711/20000 [02:31<02:32, 67.43it/s]"
     ]
    },
    {
     "name": "stdout",
     "output_type": "stream",
     "text": [
      "9700/20000 | loss_l2: 0.046297 |  loss_inf: 1.413925 | loss_bdry: 0.048884 | test_err: 0.024122\n"
     ]
    },
    {
     "name": "stderr",
     "output_type": "stream",
     "text": [
      " 49%|████▉     | 9809/20000 [02:32<02:26, 69.34it/s]"
     ]
    },
    {
     "name": "stdout",
     "output_type": "stream",
     "text": [
      "9800/20000 | loss_l2: 0.026378 |  loss_inf: 0.989606 | loss_bdry: 0.049005 | test_err: 0.024227\n"
     ]
    },
    {
     "name": "stderr",
     "output_type": "stream",
     "text": [
      " 50%|████▉     | 9912/20000 [02:34<02:38, 63.61it/s]"
     ]
    },
    {
     "name": "stdout",
     "output_type": "stream",
     "text": [
      "9900/20000 | loss_l2: 0.029658 |  loss_inf: 1.108794 | loss_bdry: 0.049130 | test_err: 0.024201\n"
     ]
    },
    {
     "name": "stderr",
     "output_type": "stream",
     "text": [
      " 50%|█████     | 10007/20000 [02:36<03:12, 51.99it/s]"
     ]
    },
    {
     "name": "stdout",
     "output_type": "stream",
     "text": [
      "10000/20000 | loss_l2: 0.047823 |  loss_inf: 1.349335 | loss_bdry: 0.048931 | test_err: 0.024196\n"
     ]
    },
    {
     "name": "stderr",
     "output_type": "stream",
     "text": [
      " 51%|█████     | 10111/20000 [02:37<02:23, 69.00it/s]"
     ]
    },
    {
     "name": "stdout",
     "output_type": "stream",
     "text": [
      "10100/20000 | loss_l2: 0.022474 |  loss_inf: 0.968550 | loss_bdry: 0.049123 | test_err: 0.024137\n"
     ]
    },
    {
     "name": "stderr",
     "output_type": "stream",
     "text": [
      " 51%|█████     | 10212/20000 [02:39<02:25, 67.44it/s]"
     ]
    },
    {
     "name": "stdout",
     "output_type": "stream",
     "text": [
      "10200/20000 | loss_l2: 0.024905 |  loss_inf: 1.013656 | loss_bdry: 0.049137 | test_err: 0.024147\n"
     ]
    },
    {
     "name": "stderr",
     "output_type": "stream",
     "text": [
      " 52%|█████▏    | 10310/20000 [02:40<02:28, 65.26it/s]"
     ]
    },
    {
     "name": "stdout",
     "output_type": "stream",
     "text": [
      "10300/20000 | loss_l2: 0.023306 |  loss_inf: 0.982337 | loss_bdry: 0.049123 | test_err: 0.024133\n"
     ]
    },
    {
     "name": "stderr",
     "output_type": "stream",
     "text": [
      " 52%|█████▏    | 10406/20000 [02:41<02:21, 67.59it/s]"
     ]
    },
    {
     "name": "stdout",
     "output_type": "stream",
     "text": [
      "10400/20000 | loss_l2: 0.016562 |  loss_inf: 0.820660 | loss_bdry: 0.049076 | test_err: 0.024148\n"
     ]
    },
    {
     "name": "stderr",
     "output_type": "stream",
     "text": [
      " 53%|█████▎    | 10510/20000 [02:43<02:20, 67.50it/s]"
     ]
    },
    {
     "name": "stdout",
     "output_type": "stream",
     "text": [
      "10500/20000 | loss_l2: 0.007343 |  loss_inf: 0.537049 | loss_bdry: 0.049027 | test_err: 0.024238\n"
     ]
    },
    {
     "name": "stderr",
     "output_type": "stream",
     "text": [
      " 53%|█████▎    | 10610/20000 [02:45<02:25, 64.35it/s]"
     ]
    },
    {
     "name": "stdout",
     "output_type": "stream",
     "text": [
      "10600/20000 | loss_l2: 0.007627 |  loss_inf: 0.550684 | loss_bdry: 0.048990 | test_err: 0.024237\n"
     ]
    },
    {
     "name": "stderr",
     "output_type": "stream",
     "text": [
      " 54%|█████▎    | 10712/20000 [02:46<02:26, 63.62it/s]"
     ]
    },
    {
     "name": "stdout",
     "output_type": "stream",
     "text": [
      "10700/20000 | loss_l2: 0.020938 |  loss_inf: 0.919298 | loss_bdry: 0.049037 | test_err: 0.024124\n"
     ]
    },
    {
     "name": "stderr",
     "output_type": "stream",
     "text": [
      " 54%|█████▍    | 10811/20000 [02:48<02:19, 66.01it/s]"
     ]
    },
    {
     "name": "stdout",
     "output_type": "stream",
     "text": [
      "10800/20000 | loss_l2: 0.007407 |  loss_inf: 0.542290 | loss_bdry: 0.049031 | test_err: 0.024202\n"
     ]
    },
    {
     "name": "stderr",
     "output_type": "stream",
     "text": [
      " 55%|█████▍    | 10910/20000 [02:49<02:23, 63.28it/s]"
     ]
    },
    {
     "name": "stdout",
     "output_type": "stream",
     "text": [
      "10900/20000 | loss_l2: 0.032182 |  loss_inf: 1.159033 | loss_bdry: 0.049169 | test_err: 0.024269\n"
     ]
    },
    {
     "name": "stderr",
     "output_type": "stream",
     "text": [
      " 55%|█████▌    | 11005/20000 [02:51<02:56, 50.85it/s]"
     ]
    },
    {
     "name": "stdout",
     "output_type": "stream",
     "text": [
      "11000/20000 | loss_l2: 0.041970 |  loss_inf: 1.316073 | loss_bdry: 0.049188 | test_err: 0.024282\n"
     ]
    },
    {
     "name": "stderr",
     "output_type": "stream",
     "text": [
      " 56%|█████▌    | 11111/20000 [02:52<02:20, 63.43it/s]"
     ]
    },
    {
     "name": "stdout",
     "output_type": "stream",
     "text": [
      "11100/20000 | loss_l2: 0.019150 |  loss_inf: 0.867514 | loss_bdry: 0.048990 | test_err: 0.024218\n"
     ]
    },
    {
     "name": "stderr",
     "output_type": "stream",
     "text": [
      " 56%|█████▌    | 11211/20000 [02:54<02:09, 67.98it/s]"
     ]
    },
    {
     "name": "stdout",
     "output_type": "stream",
     "text": [
      "11200/20000 | loss_l2: 0.024977 |  loss_inf: 0.964160 | loss_bdry: 0.049033 | test_err: 0.024198\n"
     ]
    },
    {
     "name": "stderr",
     "output_type": "stream",
     "text": [
      " 57%|█████▋    | 11307/20000 [02:55<02:04, 69.69it/s]"
     ]
    },
    {
     "name": "stdout",
     "output_type": "stream",
     "text": [
      "11300/20000 | loss_l2: 0.020701 |  loss_inf: 0.859937 | loss_bdry: 0.049016 | test_err: 0.024188\n"
     ]
    },
    {
     "name": "stderr",
     "output_type": "stream",
     "text": [
      " 57%|█████▋    | 11409/20000 [02:57<02:19, 61.74it/s]"
     ]
    },
    {
     "name": "stdout",
     "output_type": "stream",
     "text": [
      "11400/20000 | loss_l2: 0.013522 |  loss_inf: 0.752336 | loss_bdry: 0.048978 | test_err: 0.024233\n"
     ]
    },
    {
     "name": "stderr",
     "output_type": "stream",
     "text": [
      " 58%|█████▊    | 11510/20000 [02:59<02:11, 64.45it/s]"
     ]
    },
    {
     "name": "stdout",
     "output_type": "stream",
     "text": [
      "11500/20000 | loss_l2: 0.040925 |  loss_inf: 1.329061 | loss_bdry: 0.049191 | test_err: 0.024250\n"
     ]
    },
    {
     "name": "stderr",
     "output_type": "stream",
     "text": [
      " 58%|█████▊    | 11613/20000 [03:00<02:07, 65.81it/s]"
     ]
    },
    {
     "name": "stdout",
     "output_type": "stream",
     "text": [
      "11600/20000 | loss_l2: 0.040025 |  loss_inf: 1.280809 | loss_bdry: 0.049186 | test_err: 0.024268\n"
     ]
    },
    {
     "name": "stderr",
     "output_type": "stream",
     "text": [
      " 59%|█████▊    | 11709/20000 [03:02<02:01, 67.98it/s]"
     ]
    },
    {
     "name": "stdout",
     "output_type": "stream",
     "text": [
      "11700/20000 | loss_l2: 0.031694 |  loss_inf: 1.164581 | loss_bdry: 0.049164 | test_err: 0.024250\n"
     ]
    },
    {
     "name": "stderr",
     "output_type": "stream",
     "text": [
      " 59%|█████▉    | 11812/20000 [03:03<01:59, 68.51it/s]"
     ]
    },
    {
     "name": "stdout",
     "output_type": "stream",
     "text": [
      "11800/20000 | loss_l2: 0.028293 |  loss_inf: 1.062771 | loss_bdry: 0.049170 | test_err: 0.024260\n"
     ]
    },
    {
     "name": "stderr",
     "output_type": "stream",
     "text": [
      " 60%|█████▉    | 11912/20000 [03:05<02:02, 65.78it/s]"
     ]
    },
    {
     "name": "stdout",
     "output_type": "stream",
     "text": [
      "11900/20000 | loss_l2: 0.028401 |  loss_inf: 1.096703 | loss_bdry: 0.049141 | test_err: 0.024255\n"
     ]
    },
    {
     "name": "stderr",
     "output_type": "stream",
     "text": [
      " 60%|██████    | 12001/20000 [03:06<02:40, 49.95it/s]"
     ]
    },
    {
     "name": "stdout",
     "output_type": "stream",
     "text": [
      "12000/20000 | loss_l2: 0.028063 |  loss_inf: 1.093881 | loss_bdry: 0.049140 | test_err: 0.024258\n"
     ]
    },
    {
     "name": "stderr",
     "output_type": "stream",
     "text": [
      " 61%|██████    | 12111/20000 [03:08<01:58, 66.68it/s]"
     ]
    },
    {
     "name": "stdout",
     "output_type": "stream",
     "text": [
      "12100/20000 | loss_l2: 0.037586 |  loss_inf: 1.295648 | loss_bdry: 0.049113 | test_err: 0.024232\n"
     ]
    },
    {
     "name": "stderr",
     "output_type": "stream",
     "text": [
      " 61%|██████    | 12211/20000 [03:09<01:56, 66.73it/s]"
     ]
    },
    {
     "name": "stdout",
     "output_type": "stream",
     "text": [
      "12200/20000 | loss_l2: 0.034170 |  loss_inf: 1.201089 | loss_bdry: 0.049170 | test_err: 0.024140\n"
     ]
    },
    {
     "name": "stderr",
     "output_type": "stream",
     "text": [
      " 62%|██████▏   | 12313/20000 [03:11<01:48, 70.62it/s]"
     ]
    },
    {
     "name": "stdout",
     "output_type": "stream",
     "text": [
      "12300/20000 | loss_l2: 0.021391 |  loss_inf: 0.949307 | loss_bdry: 0.049142 | test_err: 0.024134\n"
     ]
    },
    {
     "name": "stderr",
     "output_type": "stream",
     "text": [
      " 62%|██████▏   | 12409/20000 [03:12<01:51, 68.09it/s]"
     ]
    },
    {
     "name": "stdout",
     "output_type": "stream",
     "text": [
      "12400/20000 | loss_l2: 0.014869 |  loss_inf: 0.763407 | loss_bdry: 0.049107 | test_err: 0.024143\n"
     ]
    },
    {
     "name": "stderr",
     "output_type": "stream",
     "text": [
      " 63%|██████▎   | 12516/20000 [03:14<01:48, 69.21it/s]"
     ]
    },
    {
     "name": "stdout",
     "output_type": "stream",
     "text": [
      "12500/20000 | loss_l2: 0.016597 |  loss_inf: 0.810481 | loss_bdry: 0.049068 | test_err: 0.024202\n"
     ]
    },
    {
     "name": "stderr",
     "output_type": "stream",
     "text": [
      " 63%|██████▎   | 12611/20000 [03:15<01:48, 68.31it/s]"
     ]
    },
    {
     "name": "stdout",
     "output_type": "stream",
     "text": [
      "12600/20000 | loss_l2: 0.020515 |  loss_inf: 0.931148 | loss_bdry: 0.048939 | test_err: 0.024225\n"
     ]
    },
    {
     "name": "stderr",
     "output_type": "stream",
     "text": [
      " 64%|██████▎   | 12713/20000 [03:17<01:49, 66.47it/s]"
     ]
    },
    {
     "name": "stdout",
     "output_type": "stream",
     "text": [
      "12700/20000 | loss_l2: 0.031390 |  loss_inf: 1.117004 | loss_bdry: 0.048933 | test_err: 0.024166\n"
     ]
    },
    {
     "name": "stderr",
     "output_type": "stream",
     "text": [
      " 64%|██████▍   | 12812/20000 [03:18<01:42, 70.13it/s]"
     ]
    },
    {
     "name": "stdout",
     "output_type": "stream",
     "text": [
      "12800/20000 | loss_l2: 0.038402 |  loss_inf: 1.272914 | loss_bdry: 0.048896 | test_err: 0.024152\n"
     ]
    },
    {
     "name": "stderr",
     "output_type": "stream",
     "text": [
      " 65%|██████▍   | 12914/20000 [03:20<01:45, 67.27it/s]"
     ]
    },
    {
     "name": "stdout",
     "output_type": "stream",
     "text": [
      "12900/20000 | loss_l2: 0.041155 |  loss_inf: 1.314750 | loss_bdry: 0.048898 | test_err: 0.024155\n"
     ]
    },
    {
     "name": "stderr",
     "output_type": "stream",
     "text": [
      " 65%|██████▌   | 13001/20000 [03:21<02:20, 49.94it/s]"
     ]
    },
    {
     "name": "stdout",
     "output_type": "stream",
     "text": [
      "13000/20000 | loss_l2: 0.024130 |  loss_inf: 1.007739 | loss_bdry: 0.048965 | test_err: 0.024163\n"
     ]
    },
    {
     "name": "stderr",
     "output_type": "stream",
     "text": [
      " 66%|██████▌   | 13106/20000 [03:23<01:46, 64.52it/s]"
     ]
    },
    {
     "name": "stdout",
     "output_type": "stream",
     "text": [
      "13100/20000 | loss_l2: 0.038439 |  loss_inf: 1.267921 | loss_bdry: 0.048899 | test_err: 0.024152\n"
     ]
    },
    {
     "name": "stderr",
     "output_type": "stream",
     "text": [
      " 66%|██████▌   | 13215/20000 [03:25<01:41, 66.56it/s]"
     ]
    },
    {
     "name": "stdout",
     "output_type": "stream",
     "text": [
      "13200/20000 | loss_l2: 0.038653 |  loss_inf: 1.270254 | loss_bdry: 0.048893 | test_err: 0.024145\n"
     ]
    },
    {
     "name": "stderr",
     "output_type": "stream",
     "text": [
      " 67%|██████▋   | 13307/20000 [03:26<01:43, 64.86it/s]"
     ]
    },
    {
     "name": "stdout",
     "output_type": "stream",
     "text": [
      "13300/20000 | loss_l2: 0.020061 |  loss_inf: 0.887823 | loss_bdry: 0.049091 | test_err: 0.024198\n"
     ]
    },
    {
     "name": "stderr",
     "output_type": "stream",
     "text": [
      " 67%|██████▋   | 13410/20000 [03:28<01:39, 66.26it/s]"
     ]
    },
    {
     "name": "stdout",
     "output_type": "stream",
     "text": [
      "13400/20000 | loss_l2: 0.020591 |  loss_inf: 0.896471 | loss_bdry: 0.049047 | test_err: 0.024205\n"
     ]
    },
    {
     "name": "stderr",
     "output_type": "stream",
     "text": [
      " 68%|██████▊   | 13511/20000 [03:29<01:32, 70.17it/s]"
     ]
    },
    {
     "name": "stdout",
     "output_type": "stream",
     "text": [
      "13500/20000 | loss_l2: 0.024898 |  loss_inf: 1.010034 | loss_bdry: 0.049083 | test_err: 0.024218\n"
     ]
    },
    {
     "name": "stderr",
     "output_type": "stream",
     "text": [
      " 68%|██████▊   | 13611/20000 [03:31<01:32, 69.39it/s]"
     ]
    },
    {
     "name": "stdout",
     "output_type": "stream",
     "text": [
      "13600/20000 | loss_l2: 0.034863 |  loss_inf: 1.204884 | loss_bdry: 0.048910 | test_err: 0.024247\n"
     ]
    },
    {
     "name": "stderr",
     "output_type": "stream",
     "text": [
      " 69%|██████▊   | 13714/20000 [03:32<01:36, 65.35it/s]"
     ]
    },
    {
     "name": "stdout",
     "output_type": "stream",
     "text": [
      "13700/20000 | loss_l2: 0.028907 |  loss_inf: 1.089759 | loss_bdry: 0.048928 | test_err: 0.024269\n"
     ]
    },
    {
     "name": "stderr",
     "output_type": "stream",
     "text": [
      " 69%|██████▉   | 13810/20000 [03:34<01:29, 69.37it/s]"
     ]
    },
    {
     "name": "stdout",
     "output_type": "stream",
     "text": [
      "13800/20000 | loss_l2: 0.029206 |  loss_inf: 1.115968 | loss_bdry: 0.048956 | test_err: 0.024264\n"
     ]
    },
    {
     "name": "stderr",
     "output_type": "stream",
     "text": [
      " 70%|██████▉   | 13913/20000 [03:35<01:39, 60.90it/s]"
     ]
    },
    {
     "name": "stdout",
     "output_type": "stream",
     "text": [
      "13900/20000 | loss_l2: 0.019644 |  loss_inf: 0.906187 | loss_bdry: 0.048989 | test_err: 0.024254\n"
     ]
    },
    {
     "name": "stderr",
     "output_type": "stream",
     "text": [
      " 70%|███████   | 14006/20000 [03:37<02:01, 49.45it/s]"
     ]
    },
    {
     "name": "stdout",
     "output_type": "stream",
     "text": [
      "14000/20000 | loss_l2: 0.005240 |  loss_inf: 0.439488 | loss_bdry: 0.049037 | test_err: 0.024254\n"
     ]
    },
    {
     "name": "stderr",
     "output_type": "stream",
     "text": [
      " 71%|███████   | 14110/20000 [03:39<01:49, 53.99it/s]"
     ]
    },
    {
     "name": "stdout",
     "output_type": "stream",
     "text": [
      "14100/20000 | loss_l2: 0.010182 |  loss_inf: 0.634004 | loss_bdry: 0.049029 | test_err: 0.024225\n"
     ]
    },
    {
     "name": "stderr",
     "output_type": "stream",
     "text": [
      " 71%|███████   | 14215/20000 [03:40<01:28, 65.22it/s]"
     ]
    },
    {
     "name": "stdout",
     "output_type": "stream",
     "text": [
      "14200/20000 | loss_l2: 0.007196 |  loss_inf: 0.542021 | loss_bdry: 0.049026 | test_err: 0.024254\n"
     ]
    },
    {
     "name": "stderr",
     "output_type": "stream",
     "text": [
      " 72%|███████▏  | 14315/20000 [03:42<01:26, 65.74it/s]"
     ]
    },
    {
     "name": "stdout",
     "output_type": "stream",
     "text": [
      "14300/20000 | loss_l2: 0.054487 |  loss_inf: 1.537095 | loss_bdry: 0.048884 | test_err: 0.024144\n"
     ]
    },
    {
     "name": "stderr",
     "output_type": "stream",
     "text": [
      " 72%|███████▏  | 14412/20000 [03:43<01:21, 68.62it/s]"
     ]
    },
    {
     "name": "stdout",
     "output_type": "stream",
     "text": [
      "14400/20000 | loss_l2: 0.012759 |  loss_inf: 0.732904 | loss_bdry: 0.048987 | test_err: 0.024248\n"
     ]
    },
    {
     "name": "stderr",
     "output_type": "stream",
     "text": [
      " 73%|███████▎  | 14507/20000 [03:45<01:20, 67.87it/s]"
     ]
    },
    {
     "name": "stdout",
     "output_type": "stream",
     "text": [
      "14500/20000 | loss_l2: 0.022681 |  loss_inf: 0.946277 | loss_bdry: 0.049166 | test_err: 0.024282\n"
     ]
    },
    {
     "name": "stderr",
     "output_type": "stream",
     "text": [
      " 73%|███████▎  | 14609/20000 [03:46<01:18, 68.52it/s]"
     ]
    },
    {
     "name": "stdout",
     "output_type": "stream",
     "text": [
      "14600/20000 | loss_l2: 0.029352 |  loss_inf: 1.118866 | loss_bdry: 0.049183 | test_err: 0.024253\n"
     ]
    },
    {
     "name": "stderr",
     "output_type": "stream",
     "text": [
      " 74%|███████▎  | 14713/20000 [03:48<01:19, 66.28it/s]"
     ]
    },
    {
     "name": "stdout",
     "output_type": "stream",
     "text": [
      "14700/20000 | loss_l2: 0.026240 |  loss_inf: 1.062032 | loss_bdry: 0.049168 | test_err: 0.024258\n"
     ]
    },
    {
     "name": "stderr",
     "output_type": "stream",
     "text": [
      " 74%|███████▍  | 14811/20000 [03:49<01:14, 69.78it/s]"
     ]
    },
    {
     "name": "stdout",
     "output_type": "stream",
     "text": [
      "14800/20000 | loss_l2: 0.027606 |  loss_inf: 1.086411 | loss_bdry: 0.049181 | test_err: 0.024277\n"
     ]
    },
    {
     "name": "stderr",
     "output_type": "stream",
     "text": [
      " 75%|███████▍  | 14911/20000 [03:51<01:13, 69.05it/s]"
     ]
    },
    {
     "name": "stdout",
     "output_type": "stream",
     "text": [
      "14900/20000 | loss_l2: 0.024441 |  loss_inf: 1.020627 | loss_bdry: 0.049154 | test_err: 0.024269\n"
     ]
    },
    {
     "name": "stderr",
     "output_type": "stream",
     "text": [
      " 75%|███████▌  | 15000/20000 [03:52<01:13, 67.84it/s]"
     ]
    },
    {
     "name": "stdout",
     "output_type": "stream",
     "text": [
      "15000/20000 | loss_l2: 0.018445 |  loss_inf: 0.888991 | loss_bdry: 0.048958 | test_err: 0.024158\n"
     ]
    },
    {
     "name": "stderr",
     "output_type": "stream",
     "text": [
      " 76%|███████▌  | 15109/20000 [03:54<01:12, 67.90it/s]"
     ]
    },
    {
     "name": "stdout",
     "output_type": "stream",
     "text": [
      "15100/20000 | loss_l2: 0.043237 |  loss_inf: 1.327227 | loss_bdry: 0.048910 | test_err: 0.024145\n"
     ]
    },
    {
     "name": "stderr",
     "output_type": "stream",
     "text": [
      " 76%|███████▌  | 15212/20000 [03:56<01:17, 62.16it/s]"
     ]
    },
    {
     "name": "stdout",
     "output_type": "stream",
     "text": [
      "15200/20000 | loss_l2: 0.033396 |  loss_inf: 1.174670 | loss_bdry: 0.048925 | test_err: 0.024150\n"
     ]
    },
    {
     "name": "stderr",
     "output_type": "stream",
     "text": [
      " 77%|███████▋  | 15308/20000 [03:57<01:06, 70.18it/s]"
     ]
    },
    {
     "name": "stdout",
     "output_type": "stream",
     "text": [
      "15300/20000 | loss_l2: 0.034047 |  loss_inf: 1.187382 | loss_bdry: 0.048933 | test_err: 0.024162\n"
     ]
    },
    {
     "name": "stderr",
     "output_type": "stream",
     "text": [
      " 77%|███████▋  | 15410/20000 [03:59<01:08, 67.12it/s]"
     ]
    },
    {
     "name": "stdout",
     "output_type": "stream",
     "text": [
      "15400/20000 | loss_l2: 0.029844 |  loss_inf: 1.104285 | loss_bdry: 0.048934 | test_err: 0.024155\n"
     ]
    },
    {
     "name": "stderr",
     "output_type": "stream",
     "text": [
      " 78%|███████▊  | 15514/20000 [04:00<01:07, 66.22it/s]"
     ]
    },
    {
     "name": "stdout",
     "output_type": "stream",
     "text": [
      "15500/20000 | loss_l2: 0.032509 |  loss_inf: 1.156592 | loss_bdry: 0.048928 | test_err: 0.024143\n"
     ]
    },
    {
     "name": "stderr",
     "output_type": "stream",
     "text": [
      " 78%|███████▊  | 15609/20000 [04:01<01:04, 68.06it/s]"
     ]
    },
    {
     "name": "stdout",
     "output_type": "stream",
     "text": [
      "15600/20000 | loss_l2: 0.008221 |  loss_inf: 0.563711 | loss_bdry: 0.049076 | test_err: 0.024209\n"
     ]
    },
    {
     "name": "stderr",
     "output_type": "stream",
     "text": [
      " 79%|███████▊  | 15708/20000 [04:03<01:03, 67.67it/s]"
     ]
    },
    {
     "name": "stdout",
     "output_type": "stream",
     "text": [
      "15700/20000 | loss_l2: 0.021131 |  loss_inf: 0.849395 | loss_bdry: 0.049033 | test_err: 0.024225\n"
     ]
    },
    {
     "name": "stderr",
     "output_type": "stream",
     "text": [
      " 79%|███████▉  | 15808/20000 [04:04<01:03, 66.44it/s]"
     ]
    },
    {
     "name": "stdout",
     "output_type": "stream",
     "text": [
      "15800/20000 | loss_l2: 0.052132 |  loss_inf: 1.475107 | loss_bdry: 0.049252 | test_err: 0.024308\n"
     ]
    },
    {
     "name": "stderr",
     "output_type": "stream",
     "text": [
      " 80%|███████▉  | 15908/20000 [04:06<00:58, 70.26it/s]"
     ]
    },
    {
     "name": "stdout",
     "output_type": "stream",
     "text": [
      "15900/20000 | loss_l2: 0.024817 |  loss_inf: 1.025916 | loss_bdry: 0.049166 | test_err: 0.024278\n"
     ]
    },
    {
     "name": "stderr",
     "output_type": "stream",
     "text": [
      " 80%|███████▉  | 15995/20000 [04:07<00:57, 70.24it/s]"
     ]
    },
    {
     "name": "stdout",
     "output_type": "stream",
     "text": [
      "16000/20000 | loss_l2: 0.028800 |  loss_inf: 1.096356 | loss_bdry: 0.048943 | test_err: 0.024256\n"
     ]
    },
    {
     "name": "stderr",
     "output_type": "stream",
     "text": [
      " 81%|████████  | 16109/20000 [04:10<01:02, 61.77it/s]"
     ]
    },
    {
     "name": "stdout",
     "output_type": "stream",
     "text": [
      "16100/20000 | loss_l2: 0.032362 |  loss_inf: 1.156741 | loss_bdry: 0.048930 | test_err: 0.024259\n"
     ]
    },
    {
     "name": "stderr",
     "output_type": "stream",
     "text": [
      " 81%|████████  | 16213/20000 [04:12<00:58, 64.26it/s]"
     ]
    },
    {
     "name": "stdout",
     "output_type": "stream",
     "text": [
      "16200/20000 | loss_l2: 0.028195 |  loss_inf: 1.090528 | loss_bdry: 0.048932 | test_err: 0.024264\n"
     ]
    },
    {
     "name": "stderr",
     "output_type": "stream",
     "text": [
      " 82%|████████▏ | 16313/20000 [04:13<01:01, 60.32it/s]"
     ]
    },
    {
     "name": "stdout",
     "output_type": "stream",
     "text": [
      "16300/20000 | loss_l2: 0.023030 |  loss_inf: 0.990603 | loss_bdry: 0.048960 | test_err: 0.024173\n"
     ]
    },
    {
     "name": "stderr",
     "output_type": "stream",
     "text": [
      " 82%|████████▏ | 16412/20000 [04:15<00:53, 66.60it/s]"
     ]
    },
    {
     "name": "stdout",
     "output_type": "stream",
     "text": [
      "16400/20000 | loss_l2: 0.012838 |  loss_inf: 0.703687 | loss_bdry: 0.049122 | test_err: 0.024167\n"
     ]
    },
    {
     "name": "stderr",
     "output_type": "stream",
     "text": [
      " 83%|████████▎ | 16511/20000 [04:16<00:52, 66.76it/s]"
     ]
    },
    {
     "name": "stdout",
     "output_type": "stream",
     "text": [
      "16500/20000 | loss_l2: 0.005493 |  loss_inf: 0.455853 | loss_bdry: 0.049065 | test_err: 0.024212\n"
     ]
    },
    {
     "name": "stderr",
     "output_type": "stream",
     "text": [
      " 83%|████████▎ | 16608/20000 [04:18<00:48, 70.22it/s]"
     ]
    },
    {
     "name": "stdout",
     "output_type": "stream",
     "text": [
      "16600/20000 | loss_l2: 0.020580 |  loss_inf: 0.936119 | loss_bdry: 0.049152 | test_err: 0.024267\n"
     ]
    },
    {
     "name": "stderr",
     "output_type": "stream",
     "text": [
      " 84%|████████▎ | 16711/20000 [04:19<00:47, 68.86it/s]"
     ]
    },
    {
     "name": "stdout",
     "output_type": "stream",
     "text": [
      "16700/20000 | loss_l2: 0.019069 |  loss_inf: 0.880404 | loss_bdry: 0.049168 | test_err: 0.024229\n"
     ]
    },
    {
     "name": "stderr",
     "output_type": "stream",
     "text": [
      " 84%|████████▍ | 16814/20000 [04:21<00:47, 66.78it/s]"
     ]
    },
    {
     "name": "stdout",
     "output_type": "stream",
     "text": [
      "16800/20000 | loss_l2: 0.035231 |  loss_inf: 1.229987 | loss_bdry: 0.049190 | test_err: 0.024275\n"
     ]
    },
    {
     "name": "stderr",
     "output_type": "stream",
     "text": [
      " 85%|████████▍ | 16910/20000 [04:22<00:44, 68.85it/s]"
     ]
    },
    {
     "name": "stdout",
     "output_type": "stream",
     "text": [
      "16900/20000 | loss_l2: 0.031568 |  loss_inf: 1.164575 | loss_bdry: 0.048957 | test_err: 0.024165\n"
     ]
    },
    {
     "name": "stderr",
     "output_type": "stream",
     "text": [
      " 85%|████████▌ | 17001/20000 [04:24<00:59, 50.04it/s]"
     ]
    },
    {
     "name": "stdout",
     "output_type": "stream",
     "text": [
      "17000/20000 | loss_l2: 0.019176 |  loss_inf: 0.883776 | loss_bdry: 0.049153 | test_err: 0.024248\n"
     ]
    },
    {
     "name": "stderr",
     "output_type": "stream",
     "text": [
      " 86%|████████▌ | 17110/20000 [04:25<00:41, 69.22it/s]"
     ]
    },
    {
     "name": "stdout",
     "output_type": "stream",
     "text": [
      "17100/20000 | loss_l2: 0.029466 |  loss_inf: 1.116713 | loss_bdry: 0.049193 | test_err: 0.024264\n"
     ]
    },
    {
     "name": "stderr",
     "output_type": "stream",
     "text": [
      " 86%|████████▌ | 17210/20000 [04:27<00:42, 65.48it/s]"
     ]
    },
    {
     "name": "stdout",
     "output_type": "stream",
     "text": [
      "17200/20000 | loss_l2: 0.016709 |  loss_inf: 0.830466 | loss_bdry: 0.049156 | test_err: 0.024231\n"
     ]
    },
    {
     "name": "stderr",
     "output_type": "stream",
     "text": [
      " 87%|████████▋ | 17313/20000 [04:28<00:40, 65.88it/s]"
     ]
    },
    {
     "name": "stdout",
     "output_type": "stream",
     "text": [
      "17300/20000 | loss_l2: 0.030315 |  loss_inf: 1.118685 | loss_bdry: 0.049199 | test_err: 0.024264\n"
     ]
    },
    {
     "name": "stderr",
     "output_type": "stream",
     "text": [
      " 87%|████████▋ | 17414/20000 [04:30<00:39, 65.36it/s]"
     ]
    },
    {
     "name": "stdout",
     "output_type": "stream",
     "text": [
      "17400/20000 | loss_l2: 0.017349 |  loss_inf: 0.840876 | loss_bdry: 0.049170 | test_err: 0.024252\n"
     ]
    },
    {
     "name": "stderr",
     "output_type": "stream",
     "text": [
      " 88%|████████▊ | 17512/20000 [04:31<00:35, 69.98it/s]"
     ]
    },
    {
     "name": "stdout",
     "output_type": "stream",
     "text": [
      "17500/20000 | loss_l2: 0.025467 |  loss_inf: 1.045416 | loss_bdry: 0.049185 | test_err: 0.024230\n"
     ]
    },
    {
     "name": "stderr",
     "output_type": "stream",
     "text": [
      " 88%|████████▊ | 17610/20000 [04:33<00:35, 67.34it/s]"
     ]
    },
    {
     "name": "stdout",
     "output_type": "stream",
     "text": [
      "17600/20000 | loss_l2: 0.025460 |  loss_inf: 0.957818 | loss_bdry: 0.049096 | test_err: 0.024223\n"
     ]
    },
    {
     "name": "stderr",
     "output_type": "stream",
     "text": [
      " 89%|████████▊ | 17711/20000 [04:34<00:33, 68.98it/s]"
     ]
    },
    {
     "name": "stdout",
     "output_type": "stream",
     "text": [
      "17700/20000 | loss_l2: 0.011399 |  loss_inf: 0.640251 | loss_bdry: 0.049062 | test_err: 0.024212\n"
     ]
    },
    {
     "name": "stderr",
     "output_type": "stream",
     "text": [
      " 89%|████████▉ | 17807/20000 [04:36<00:32, 67.27it/s]"
     ]
    },
    {
     "name": "stdout",
     "output_type": "stream",
     "text": [
      "17800/20000 | loss_l2: 0.005381 |  loss_inf: 0.447063 | loss_bdry: 0.049120 | test_err: 0.024250\n"
     ]
    },
    {
     "name": "stderr",
     "output_type": "stream",
     "text": [
      " 90%|████████▉ | 17911/20000 [04:37<00:32, 65.12it/s]"
     ]
    },
    {
     "name": "stdout",
     "output_type": "stream",
     "text": [
      "17900/20000 | loss_l2: 0.020695 |  loss_inf: 0.893748 | loss_bdry: 0.049087 | test_err: 0.024210\n"
     ]
    },
    {
     "name": "stderr",
     "output_type": "stream",
     "text": [
      " 90%|█████████ | 18005/20000 [04:39<00:41, 47.77it/s]"
     ]
    },
    {
     "name": "stdout",
     "output_type": "stream",
     "text": [
      "18000/20000 | loss_l2: 0.028193 |  loss_inf: 1.093322 | loss_bdry: 0.048960 | test_err: 0.024195\n"
     ]
    },
    {
     "name": "stderr",
     "output_type": "stream",
     "text": [
      " 91%|█████████ | 18111/20000 [04:41<00:28, 66.85it/s]"
     ]
    },
    {
     "name": "stdout",
     "output_type": "stream",
     "text": [
      "18100/20000 | loss_l2: 0.045788 |  loss_inf: 1.361132 | loss_bdry: 0.048926 | test_err: 0.024143\n"
     ]
    },
    {
     "name": "stderr",
     "output_type": "stream",
     "text": [
      " 91%|█████████ | 18210/20000 [04:42<00:28, 63.57it/s]"
     ]
    },
    {
     "name": "stdout",
     "output_type": "stream",
     "text": [
      "18200/20000 | loss_l2: 0.037584 |  loss_inf: 1.238411 | loss_bdry: 0.048927 | test_err: 0.024147\n"
     ]
    },
    {
     "name": "stderr",
     "output_type": "stream",
     "text": [
      " 92%|█████████▏| 18308/20000 [04:44<00:25, 66.95it/s]"
     ]
    },
    {
     "name": "stdout",
     "output_type": "stream",
     "text": [
      "18300/20000 | loss_l2: 0.036217 |  loss_inf: 1.222110 | loss_bdry: 0.048932 | test_err: 0.024149\n"
     ]
    },
    {
     "name": "stderr",
     "output_type": "stream",
     "text": [
      " 92%|█████████▏| 18410/20000 [04:45<00:23, 68.58it/s]"
     ]
    },
    {
     "name": "stdout",
     "output_type": "stream",
     "text": [
      "18400/20000 | loss_l2: 0.028437 |  loss_inf: 1.095414 | loss_bdry: 0.048959 | test_err: 0.024151\n"
     ]
    },
    {
     "name": "stderr",
     "output_type": "stream",
     "text": [
      " 93%|█████████▎| 18508/20000 [04:47<00:21, 69.50it/s]"
     ]
    },
    {
     "name": "stdout",
     "output_type": "stream",
     "text": [
      "18500/20000 | loss_l2: 0.006937 |  loss_inf: 0.527526 | loss_bdry: 0.049029 | test_err: 0.024274\n"
     ]
    },
    {
     "name": "stderr",
     "output_type": "stream",
     "text": [
      " 93%|█████████▎| 18610/20000 [04:48<00:19, 69.74it/s]"
     ]
    },
    {
     "name": "stdout",
     "output_type": "stream",
     "text": [
      "18600/20000 | loss_l2: 0.024750 |  loss_inf: 1.017238 | loss_bdry: 0.048965 | test_err: 0.024186\n"
     ]
    },
    {
     "name": "stderr",
     "output_type": "stream",
     "text": [
      " 94%|█████████▎| 18708/20000 [04:50<00:18, 69.54it/s]"
     ]
    },
    {
     "name": "stdout",
     "output_type": "stream",
     "text": [
      "18700/20000 | loss_l2: 0.015117 |  loss_inf: 0.792713 | loss_bdry: 0.049116 | test_err: 0.024196\n"
     ]
    },
    {
     "name": "stderr",
     "output_type": "stream",
     "text": [
      " 94%|█████████▍| 18810/20000 [04:51<00:18, 65.11it/s]"
     ]
    },
    {
     "name": "stdout",
     "output_type": "stream",
     "text": [
      "18800/20000 | loss_l2: 0.037961 |  loss_inf: 1.242919 | loss_bdry: 0.048936 | test_err: 0.024158\n"
     ]
    },
    {
     "name": "stderr",
     "output_type": "stream",
     "text": [
      " 95%|█████████▍| 18910/20000 [04:53<00:16, 64.72it/s]"
     ]
    },
    {
     "name": "stdout",
     "output_type": "stream",
     "text": [
      "18900/20000 | loss_l2: 0.038547 |  loss_inf: 1.243665 | loss_bdry: 0.048938 | test_err: 0.024141\n"
     ]
    },
    {
     "name": "stderr",
     "output_type": "stream",
     "text": [
      " 95%|█████████▌| 19007/20000 [04:54<00:19, 50.18it/s]"
     ]
    },
    {
     "name": "stdout",
     "output_type": "stream",
     "text": [
      "19000/20000 | loss_l2: 0.040346 |  loss_inf: 1.278696 | loss_bdry: 0.048935 | test_err: 0.024146\n"
     ]
    },
    {
     "name": "stderr",
     "output_type": "stream",
     "text": [
      " 96%|█████████▌| 19114/20000 [04:56<00:12, 69.26it/s]"
     ]
    },
    {
     "name": "stdout",
     "output_type": "stream",
     "text": [
      "19100/20000 | loss_l2: 0.030421 |  loss_inf: 1.141608 | loss_bdry: 0.048967 | test_err: 0.024160\n"
     ]
    },
    {
     "name": "stderr",
     "output_type": "stream",
     "text": [
      " 96%|█████████▌| 19211/20000 [04:57<00:11, 66.83it/s]"
     ]
    },
    {
     "name": "stdout",
     "output_type": "stream",
     "text": [
      "19200/20000 | loss_l2: 0.019472 |  loss_inf: 0.891322 | loss_bdry: 0.048973 | test_err: 0.024211\n"
     ]
    },
    {
     "name": "stderr",
     "output_type": "stream",
     "text": [
      " 97%|█████████▋| 19315/20000 [04:59<00:09, 69.07it/s]"
     ]
    },
    {
     "name": "stdout",
     "output_type": "stream",
     "text": [
      "19300/20000 | loss_l2: 0.024297 |  loss_inf: 0.998249 | loss_bdry: 0.049193 | test_err: 0.024268\n"
     ]
    },
    {
     "name": "stderr",
     "output_type": "stream",
     "text": [
      " 97%|█████████▋| 19410/20000 [05:00<00:08, 70.10it/s]"
     ]
    },
    {
     "name": "stdout",
     "output_type": "stream",
     "text": [
      "19400/20000 | loss_l2: 0.023364 |  loss_inf: 0.948316 | loss_bdry: 0.049096 | test_err: 0.024215\n"
     ]
    },
    {
     "name": "stderr",
     "output_type": "stream",
     "text": [
      " 98%|█████████▊| 19509/20000 [05:02<00:07, 62.58it/s]"
     ]
    },
    {
     "name": "stdout",
     "output_type": "stream",
     "text": [
      "19500/20000 | loss_l2: 0.023042 |  loss_inf: 0.924676 | loss_bdry: 0.049122 | test_err: 0.024227\n"
     ]
    },
    {
     "name": "stderr",
     "output_type": "stream",
     "text": [
      " 98%|█████████▊| 19609/20000 [05:03<00:06, 64.12it/s]"
     ]
    },
    {
     "name": "stdout",
     "output_type": "stream",
     "text": [
      "19600/20000 | loss_l2: 0.016935 |  loss_inf: 0.834187 | loss_bdry: 0.049157 | test_err: 0.024244\n"
     ]
    },
    {
     "name": "stderr",
     "output_type": "stream",
     "text": [
      " 99%|█████████▊| 19714/20000 [05:05<00:04, 68.07it/s]"
     ]
    },
    {
     "name": "stdout",
     "output_type": "stream",
     "text": [
      "19700/20000 | loss_l2: 0.018322 |  loss_inf: 0.876152 | loss_bdry: 0.049180 | test_err: 0.024251\n"
     ]
    },
    {
     "name": "stderr",
     "output_type": "stream",
     "text": [
      " 99%|█████████▉| 19811/20000 [05:06<00:02, 64.54it/s]"
     ]
    },
    {
     "name": "stdout",
     "output_type": "stream",
     "text": [
      "19800/20000 | loss_l2: 0.018927 |  loss_inf: 0.887859 | loss_bdry: 0.049176 | test_err: 0.024254\n"
     ]
    },
    {
     "name": "stderr",
     "output_type": "stream",
     "text": [
      "100%|█████████▉| 19913/20000 [05:08<00:01, 67.58it/s]"
     ]
    },
    {
     "name": "stdout",
     "output_type": "stream",
     "text": [
      "19900/20000 | loss_l2: 0.018792 |  loss_inf: 0.886638 | loss_bdry: 0.049180 | test_err: 0.024251\n"
     ]
    },
    {
     "name": "stderr",
     "output_type": "stream",
     "text": [
      "100%|██████████| 20000/20000 [05:09<00:00, 64.61it/s]\n"
     ]
    },
    {
     "data": {
      "image/png": "[encoded data removed]",
      "text/plain": [
       "<Figure size 500x500 with 2 Axes>"
      ]
     },
     "metadata": {},
     "output_type": "display_data"
    },
    {
     "data": {
      "image/png": "[encoded data removed]",
      "text/plain": [
       "<Figure size 500x500 with 2 Axes>"
      ]
     },
     "metadata": {},
     "output_type": "display_data"
    },
    {
     "data": {
      "image/png": "[encoded data removed]",
      "text/plain": [
       "<Figure size 500x500 with 2 Axes>"
      ]
     },
     "metadata": {},
     "output_type": "display_data"
    },
    {
     "data": {
      "image/png": "[encoded data removed]",
      "text/plain": [
       "<Figure size 500x500 with 2 Axes>"
      ]
     },
     "metadata": {},
     "output_type": "display_data"
    },
    {
     "data": {
      "image/png": "[encoded data removed]",
      "text/plain": [
       "<Figure size 500x500 with 2 Axes>"
      ]
     },
     "metadata": {},
     "output_type": "display_data"
    },
    {
     "data": {
      "image/png": "[encoded data removed]",
      "text/plain": [
       "<Figure size 500x500 with 2 Axes>"
      ]
     },
     "metadata": {},
     "output_type": "display_data"
    },
    {
     "data": {
      "image/png": "[encoded data removed]",
      "text/plain": [
       "<Figure size 500x500 with 2 Axes>"
      ]
     },
     "metadata": {},
     "output_type": "display_data"
    },
    {
     "data": {
      "image/png": "[encoded data removed]",
      "text/plain": [
       "<Figure size 500x500 with 2 Axes>"
      ]
     },
     "metadata": {},
     "output_type": "display_data"
    },
    {
     "data": {
      "image/png": "[encoded data removed]",
      "text/plain": [
       "<Figure size 500x500 with 2 Axes>"
      ]
     },
     "metadata": {},
     "output_type": "display_data"
    },
    {
     "data": {
      "image/png": "[encoded data removed]",
      "text/plain": [
       "<Figure size 500x500 with 2 Axes>"
      ]
     },
     "metadata": {},
     "output_type": "display_data"
    },
    {
     "data": {
      "image/png": "[encoded data removed]",
      "text/plain": [
       "<Figure size 500x500 with 2 Axes>"
      ]
     },
     "metadata": {},
     "output_type": "display_data"
    },
    {
     "data": {
      "image/png": "[encoded data removed]",
      "text/plain": [
       "<Figure size 500x500 with 2 Axes>"
      ]
     },
     "metadata": {},
     "output_type": "display_data"
    },
    {
     "data": {
      "image/png": "[encoded data removed]",
      "text/plain": [
       "<Figure size 500x500 with 2 Axes>"
      ]
     },
     "metadata": {},
     "output_type": "display_data"
    },
    {
     "data": {
      "image/png": "[encoded data removed]",
      "text/plain": [
       "<Figure size 500x500 with 2 Axes>"
      ]
     },
     "metadata": {},
     "output_type": "display_data"
    },
    {
     "data": {
      "image/png": "[encoded data removed]",
      "text/plain": [
       "<Figure size 500x500 with 2 Axes>"
      ]
     },
     "metadata": {},
     "output_type": "display_data"
    },
    {
     "data": {
      "image/png": "[encoded data removed]",
      "text/plain": [
       "<Figure size 500x500 with 2 Axes>"
      ]
     },
     "metadata": {},
     "output_type": "display_data"
    },
    {
     "data": {
      "image/png": "[encoded data removed]",
      "text/plain": [
       "<Figure size 500x500 with 2 Axes>"
      ]
     },
     "metadata": {},
     "output_type": "display_data"
    },
    {
     "data": {
      "image/png": "[encoded data removed]",
      "text/plain": [
       "<Figure size 500x500 with 2 Axes>"
      ]
     },
     "metadata": {},
     "output_type": "display_data"
    },
    {
     "data": {
      "image/png": "[encoded data removed]",
      "text/plain": [
       "<Figure size 500x500 with 2 Axes>"
      ]
     },
     "metadata": {},
     "output_type": "display_data"
    },
    {
     "data": {
      "image/png": "[encoded data removed]",
      "text/plain": [
       "<Figure size 500x500 with 2 Axes>"
      ]
     },
     "metadata": {},
     "output_type": "display_data"
    }
   ],
   "source": [
    "u_model = model(hidden_dims=[2,26,26,26,10,1]).to(device)\n",
    "#s_model = model(hidden_dims=[2,64,64,64,1]).to(device)\n",
    "optimizer = torch.optim.Adam([{'params': u_model.parameters()}], lr=1e-4)\n",
    "\n",
    "loss_f = nn.MSELoss()\n",
    "EPOCHS = 20000\n",
    "loss_inf=0\n",
    "for i in tqdm(range(EPOCHS)) :\n",
    "    loss_l2, loss_inf, loss_bdry = train(u_model, optimizer, loss_f)\n",
    "\n",
    "    if i % 100 == 0 :\n",
    "        test_err = F.mse_loss(u_model(x_int),u_int).item()\n",
    "        print(\"%s/%s | loss_l2: %06.6f |  loss_inf: %06.6f | loss_bdry: %06.6f | test_err: %06.6f\" % \\\n",
    "              (i, EPOCHS, loss_l2, loss_inf, loss_bdry, test_err))\n",
    "    if i % 1000 == 0 :\n",
    "        plot(u_model)\n"
   ]
  }
 ],
 "metadata": {
  "kernelspec": {
   "display_name": "PINN_PYTORCH",
   "language": "python",
   "name": "python3"
  },
  "language_info": {
   "codemirror_mode": {
    "name": "ipython",
    "version": 3
   },
   "file_extension": ".py",
   "mimetype": "text/x-python",
   "name": "python",
   "nbconvert_exporter": "python",
   "pygments_lexer": "ipython3",
   "version": "3.10.14"
  }
 },
 "nbformat": 4,
 "nbformat_minor": 2
}
